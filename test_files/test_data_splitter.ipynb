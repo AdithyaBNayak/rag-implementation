{
 "cells": [
  {
   "cell_type": "code",
   "execution_count": 2,
   "metadata": {},
   "outputs": [],
   "source": [
    "from langchain.text_splitter import RecursiveCharacterTextSplitter"
   ]
  },
  {
   "cell_type": "code",
   "execution_count": 4,
   "metadata": {},
   "outputs": [
    {
     "data": {
      "text/plain": [
       "['Hey This is the test sample I am writing for Data',\n",
       " 'Data Splitting test. Langchain is providing me a',\n",
       " 'me a functionality where I can split the data',\n",
       " 'data into multiple chunks.']"
      ]
     },
     "execution_count": 4,
     "metadata": {},
     "output_type": "execute_result"
    }
   ],
   "source": [
    "data_splitter = RecursiveCharacterTextSplitter(\n",
    "    separators=[\"\\n\\n\",\"\\n\",\" \", \"\"],\n",
    "    chunk_size = 50,\n",
    "    chunk_overlap = 5)\n",
    "data_sample = \"Hey This is the test sample I am writing for Data Splitting test. Langchain is providing me a functionality where I can split the data into multiple chunks.\"\n",
    "splitted_sample = data_splitter.split_text(data_sample)\n",
    "splitted_sample"
   ]
  }
 ],
 "metadata": {
  "kernelspec": {
   "display_name": "vnv",
   "language": "python",
   "name": "python3"
  },
  "language_info": {
   "codemirror_mode": {
    "name": "ipython",
    "version": 3
   },
   "file_extension": ".py",
   "mimetype": "text/x-python",
   "name": "python",
   "nbconvert_exporter": "python",
   "pygments_lexer": "ipython3",
   "version": "3.11.4"
  }
 },
 "nbformat": 4,
 "nbformat_minor": 2
}
